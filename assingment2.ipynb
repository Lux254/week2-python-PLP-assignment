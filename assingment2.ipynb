{
 "cells": [
  {
   "cell_type": "code",
   "execution_count": 3,
   "id": "c45ab53a-f82a-4d3c-b5b4-a83a98bba659",
   "metadata": {},
   "outputs": [
    {
     "data": {
      "text/plain": [
       "[]"
      ]
     },
     "execution_count": 3,
     "metadata": {},
     "output_type": "execute_result"
    }
   ],
   "source": [
    "#Create an empty list called my_list\n",
    "\n",
    "my_list = []\n",
    "my_list"
   ]
  },
  {
   "cell_type": "code",
   "execution_count": 5,
   "id": "f1bdf4ee-c602-4a02-ab1b-28e0fc72f3b9",
   "metadata": {},
   "outputs": [
    {
     "data": {
      "text/plain": [
       "[10, 20, 30, 40]"
      ]
     },
     "execution_count": 5,
     "metadata": {},
     "output_type": "execute_result"
    }
   ],
   "source": [
    "#Append the following elements to my_list: 10, 20, 30, 40\n",
    "\n",
    "my_list.append(10)\n",
    "my_list.append(20)\n",
    "my_list.append(30)\n",
    "my_list.append(40)\n",
    "my_list"
   ]
  },
  {
   "cell_type": "code",
   "execution_count": 7,
   "id": "957e7821-dca5-43f0-879a-28ff55f4a1e2",
   "metadata": {},
   "outputs": [
    {
     "data": {
      "text/plain": [
       "[10, 15, 20, 30, 40]"
      ]
     },
     "execution_count": 7,
     "metadata": {},
     "output_type": "execute_result"
    }
   ],
   "source": [
    "#Insert the value 15 at the second position in the list\n",
    "\n",
    "my_list.insert(1, 15)\n",
    "my_list"
   ]
  },
  {
   "cell_type": "code",
   "execution_count": 9,
   "id": "5c2ec6e5-815b-4241-a981-0c075a1a3fff",
   "metadata": {},
   "outputs": [
    {
     "data": {
      "text/plain": [
       "[10, 15, 20, 30, 40, 50, 60, 70]"
      ]
     },
     "execution_count": 9,
     "metadata": {},
     "output_type": "execute_result"
    }
   ],
   "source": [
    "#Extend my_list with another list: [50, 60, 70]\n",
    "\n",
    "my_list.extend([50, 60, 70])\n",
    "my_list"
   ]
  },
  {
   "cell_type": "code",
   "execution_count": 11,
   "id": "880954cd-783f-44f3-b1d2-072e0883d35f",
   "metadata": {},
   "outputs": [
    {
     "data": {
      "text/plain": [
       "[10, 15, 20, 30, 40, 50, 60]"
      ]
     },
     "execution_count": 11,
     "metadata": {},
     "output_type": "execute_result"
    }
   ],
   "source": [
    "#Remove the last element from my_list\n",
    "\n",
    "my_list.pop()\n",
    "my_list"
   ]
  },
  {
   "cell_type": "code",
   "execution_count": 13,
   "id": "fbafe4f9-0171-4a91-9906-13831b201557",
   "metadata": {},
   "outputs": [
    {
     "data": {
      "text/plain": [
       "[10, 15, 20, 30, 40, 50, 60]"
      ]
     },
     "execution_count": 13,
     "metadata": {},
     "output_type": "execute_result"
    }
   ],
   "source": [
    "#Sort my_list in ascending orde\n",
    "\n",
    "my_list.sort()\n",
    "my_list"
   ]
  },
  {
   "cell_type": "code",
   "execution_count": 37,
   "id": "03285e58-56a8-4e6a-a31a-5ecf3b749cef",
   "metadata": {},
   "outputs": [
    {
     "name": "stdout",
     "output_type": "stream",
     "text": [
      "30 is index 3\n"
     ]
    }
   ],
   "source": [
    "#Find and print the index of the value 30 in my_list\n",
    "\n",
    "for idx, val in enumerate(my_list):\n",
    "    if val == 30:\n",
    "        print(f\"{val} is index {idx}\")"
   ]
  },
  {
   "cell_type": "code",
   "execution_count": null,
   "id": "ba5e4f29-e27a-4061-8c82-41836f4b1189",
   "metadata": {},
   "outputs": [],
   "source": []
  }
 ],
 "metadata": {
  "kernelspec": {
   "display_name": "Python [conda env:base] *",
   "language": "python",
   "name": "conda-base-py"
  },
  "language_info": {
   "codemirror_mode": {
    "name": "ipython",
    "version": 3
   },
   "file_extension": ".py",
   "mimetype": "text/x-python",
   "name": "python",
   "nbconvert_exporter": "python",
   "pygments_lexer": "ipython3",
   "version": "3.12.7"
  }
 },
 "nbformat": 4,
 "nbformat_minor": 5
}
